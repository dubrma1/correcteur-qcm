{
  "nbformat": 4,
  "nbformat_minor": 0,
  "metadata": {
    "colab": {
      "provenance": []
    },
    "kernelspec": {
      "name": "python3",
      "display_name": "Python 3"
    },
    "language_info": {
      "name": "python"
    }
  },
  "cells": [
    {
      "cell_type": "markdown",
      "source": [
        "**Un correcteur de questions à choix multiples**\n",
        "\n",
        "Les élèves\n",
        "\n",
        "1.   utilisent obligatoirement une copie de [cette feuille-réponse](https://drive.google.com/file/d/1fs7slGV1wB0Djzp2CHAYDLdNK_kc6jpx/view?usp=drive_link).\n",
        "2.   identifient leur copie à l'aide de leur identifiant réseau du CSSMB\n",
        "1.   noirciront le cercle contenant la lettre de leur choix.\n",
        "\n",
        "L'enseignant\n",
        "\n",
        "1.   numérise les feuilles-réponses des élèves au photocopieur.\n",
        "\n",
        "1.   renomme le fichier pdf: eleve.pdf\n",
        "\n",
        "2.   [convertie le pdf](https://pdf2png.com/) en plusieurs png: ils seront nommés selon le format eleve-1.pdf, eleve-1.pdf...\n",
        "1.   téléverse les fichiers png dans le sous dossier : Fichiers-Eleves\n",
        "\n",
        "\n",
        "\n",
        "\n",
        "<img src=\"https://drive.google.com/uc?export=view&id=1NB1YrpqoLT4va5Z1o3Gv3r1FksDjmnRg\" alt=\"Description de l'image\" width=\"66%\">\n"
      ],
      "metadata": {
        "id": "y78OvDxJjyn9"
      }
    },
    {
      "cell_type": "markdown",
      "source": [
        "Passer votre souris sur le [ ], puis cliquer sur le ▷ pour exécuter le code.\n",
        "\n",
        "Google vérifiera qu'il s'agit de toi! Accepte les demandes d'accès de ton code à ton dossier.\n"
      ],
      "metadata": {
        "id": "GQrsJJeQl6uH"
      }
    },
    {
      "cell_type": "code",
      "execution_count": null,
      "metadata": {
        "id": "12YLiaCUjm8t"
      },
      "outputs": [],
      "source": [
        "# Cellule 01\n",
        "# Importer les librairies de codes nécessaires\n",
        "import cv2\n",
        "import numpy as np\n",
        "import matplotlib.pyplot as plt\n",
        "import csv\n",
        "import os\n",
        "import glob  #\n",
        "import re    # Pour le tri naturel des noms de fichiers\n",
        "\n",
        "# Le code de cette cellule est utile seulement pour utiliser les données dans un environnement Google Colab.\n",
        "from google.colab import drive\n",
        "drive.mount('/content/drive', force_remount=True)"
      ]
    },
    {
      "cell_type": "markdown",
      "source": [
        "**Configure les chemins et le fichier de Sortie**\n",
        "1. Créer un sous-dossier et le nommer Fichiers-Eleves.\n",
        "2. Le programme est configuré pour résider dans *Mon disque* et le dossier *Colab Notebooks* qui contient un dossier *Correcteur-QCM* qui contient à son tour un *dossier* *Fichiers-Eleves*.\n",
        "3. Téléverser les images *eleve-x.png* dans le sous-dossier Fichiers-Eleves.\n",
        "\n",
        "Tu peux certainement modifier le code de la prochaine cellule pour faire correspondre les chemin avec la structure de ton *Mon drive*.\n",
        "\n"
      ],
      "metadata": {
        "id": "cxZvpRCqoRBK"
      }
    },
    {
      "cell_type": "code",
      "source": [
        "# Cellule 02: Chemins et Fichier de Sortie (Configuration)\n",
        "\n",
        "input_folder = '/content/drive/MyDrive/Colab Notebooks/Correcteur-QCM/Fichiers-Eleves'  # Chemin du dosier dans lequel les images sont téléversées\n",
        "output_csv = '/content/drive/MyDrive/Colab Notebooks/Correcteur-QCM/resultats.csv' # Nom du CSV pour le lot"
      ],
      "metadata": {
        "id": "suAqx5BAnz2E"
      },
      "execution_count": null,
      "outputs": []
    },
    {
      "cell_type": "markdown",
      "source": [
        "\n",
        "\n",
        "\n",
        "*   S'il y a des erreurs de lecture de cercles noicis, il faut modifier les paramètres de la cellule suivante.\n",
        "*   Si tu veux utiliser ton propre gabarit de feuille-réponse, tu dois mesurer les positions des cercles en pixels. J'utilise tout simplement MS Paint."
      ],
      "metadata": {
        "id": "55AzG1F60EmV"
      }
    },
    {
      "cell_type": "code",
      "source": [
        "# Cellule 03: Paramètres pour la détection de l'ID et du QCM\n",
        "\n",
        "# --- Paramètres pour la détection de l'ID ---\n",
        "ID_Y_COORDS = [311, 392, 475, 557, 638, 719, 802]\n",
        "ID_X_START_LETTER = 219\n",
        "ID_X_START_DIGIT = 219\n",
        "LETTER_SPACING = 44\n",
        "DIGIT_SPACING = 44\n",
        "NUM_LETTERS_OPTIONS = 26  # A-Z\n",
        "NUM_DIGITS_OPTIONS = 10   # 0-9\n",
        "ID_MATCHING_THRESHOLD = 15 # Seuil pour associer un cercle noirci à une position d'ID\n",
        "ID_VERTICAL_ROW_TOLERANCE = (ID_Y_COORDS[1] - ID_Y_COORDS[0]) / 2.5 if len(ID_Y_COORDS) > 1 else 10\n",
        "\n",
        "# --- Paramètres pour la détection des réponses QCM ---\n",
        "QCM_NUM_QUESTIONS = 15      # Nombre de lignes (questions) dans la feuille de réponse QCM\n",
        "QCM_X_START = 353           # Coordonnée x de départ pour la première colonne de réponses QCM (A)\n",
        "QCM_Y_START = 960           # Coordonnée y de départ pour la première ligne de réponses QCM (Question 1)\n",
        "QCM_ANSWER_COLUMN_WIDTH = 43 # Espacement horizontal entre les centres des choix (A-B, B-C, etc.)\n",
        "QCM_ANSWER_ROW_HEIGHT = 60   # Espacement vertical entre les lignes de questions QCM\n",
        "QCM_NUM_CHOICES = 4         # Nombre de choix par question (A, B, C, D)\n",
        "QCM_MATCHING_THRESHOLD = 20 # Seuil de distance pour considérer un cercle comme proche d'une zone de réponse QCM (était threshold_value)\n",
        "\n",
        "# --- Paramètres communs pour HoughCircles (utilisés pour détecter TOUS les cercles) ---\n",
        "# Ajustez ces paramètres pour qu'ils détectent bien les cercles de l'ID ET du QCM.\n",
        "# Si les tailles/types de cercles sont très différents, deux passes de HoughCircles pourraient être envisagées,\n",
        "# mais essayons avec un seul jeu de paramètres d'abord.\n",
        "HOUGH_DP = 1.2\n",
        "HOUGH_MIN_DIST = 20      # Distance minimale entre les centres des cercles détectés.\n",
        "HOUGH_PARAM1 = 50        # Seuil supérieur pour le détecteur de contours Canny.\n",
        "HOUGH_PARAM2 = 25        # Seuil pour la détection des centres. Plus il est petit, plus il détecte de cercles (y compris des faux).\n",
        "HOUGH_MIN_RADIUS = 8\n",
        "HOUGH_MAX_RADIUS = 15    # Ajustez en fonction de la taille des plus petits et plus grands cercles sur la feuille."
      ],
      "metadata": {
        "id": "k3i84h4WmMQH"
      },
      "execution_count": null,
      "outputs": []
    },
    {
      "cell_type": "markdown",
      "source": [
        "Il y a peu de code à changer dans les cellules suivantes.\n",
        "\n",
        "*   C'est ici que l'on peut modifier le diamètres des cercles de correction.\n",
        "*   C'est ici que l'on change le nombre de lignes de l'identifiant.\n",
        "\n"
      ],
      "metadata": {
        "id": "IWy5T62HWmaL"
      }
    },
    {
      "cell_type": "code",
      "source": [
        "# Cellule 04: Définitions des Cartes de Positions et Fonctions (Configuration)\n",
        "\n",
        "# --- Fonction pour l'intensité (pour l'ID et QCM) ---\n",
        "def get_average_intensity(image_gray, center_x, center_y, radius):\n",
        "    cx, cy, r = int(center_x), int(center_y), int(radius)\n",
        "    mask = np.zeros(image_gray.shape, dtype=np.uint8)\n",
        "    mask_radius = max(1, int(r * 0.7))\n",
        "    cv2.circle(mask, (cx, cy), mask_radius, 255, -1)\n",
        "    mean_val = cv2.mean(image_gray, mask=mask)[0]\n",
        "    return mean_val\n",
        "\n",
        "# --- Carte des positions des caractères de l'ID ---\n",
        "id_character_positions_map = []\n",
        "for i in range(6): # Lignes de lettres\n",
        "    y = ID_Y_COORDS[i]\n",
        "    row_char_positions = []\n",
        "    for j in range(NUM_LETTERS_OPTIONS):\n",
        "        x = ID_X_START_LETTER + j * LETTER_SPACING\n",
        "        char_value = chr(65 + j)\n",
        "        row_char_positions.append({'x': x, 'y': y, 'char': char_value, 'id_row_index': i, 'type': 'letter'})\n",
        "    id_character_positions_map.append(row_char_positions)\n",
        "y_digits_id = ID_Y_COORDS[6] # Ligne de chiffres ID\n",
        "row_digit_positions_id = []\n",
        "for j in range(NUM_DIGITS_OPTIONS):\n",
        "    x = ID_X_START_DIGIT + j * DIGIT_SPACING\n",
        "    char_value = str(j)\n",
        "    row_digit_positions_id.append({'x': x, 'y': y_digits_id, 'char': char_value, 'id_row_index': 6, 'type': 'digit'})\n",
        "id_character_positions_map.append(row_digit_positions_id)\n",
        "print(\"Carte des positions pour l'ID créée.\")\n",
        "\n",
        "# --- Carte des positions des réponses QCM ---\n",
        "qcm_answer_areas = []\n",
        "for q_row in range(QCM_NUM_QUESTIONS):\n",
        "    y_center_qcm = QCM_Y_START + q_row * QCM_ANSWER_ROW_HEIGHT\n",
        "    q_row_answer_positions = []\n",
        "    for choice_col in range(QCM_NUM_CHOICES):\n",
        "        x_center_qcm = QCM_X_START + choice_col * QCM_ANSWER_COLUMN_WIDTH\n",
        "        choice_char = chr(65 + choice_col)\n",
        "        q_row_answer_positions.append({'x': x_center_qcm, 'y': y_center_qcm, 'char': choice_char,\n",
        "                                       'question_idx': q_row, 'choice_idx': choice_col})\n",
        "    qcm_answer_areas.append(q_row_answer_positions)\n",
        "print(f\"Carte des {QCM_NUM_QUESTIONS} questions QCM créée.\")\n",
        "\n",
        "# --- Clés pour le CSV de sortie ---\n",
        "CSV_FIELDNAMES = ['ImageName', 'DetectedID'] + [f'Q{i+1}' for i in range(QCM_NUM_QUESTIONS)]"
      ],
      "metadata": {
        "id": "HWsJycqUXuDl",
        "colab": {
          "base_uri": "https://localhost:8080/"
        },
        "outputId": "b29668cb-c295-4ca5-a8df-eb957a2842d2"
      },
      "execution_count": null,
      "outputs": [
        {
          "output_type": "stream",
          "name": "stdout",
          "text": [
            "Carte des positions pour l'ID créée.\n",
            "Carte des 15 questions QCM créée.\n"
          ]
        }
      ]
    },
    {
      "cell_type": "markdown",
      "source": [
        "C'est dans cette cellule que vous pourrez modifier le nom des images à analyser: (eleve-1, eleve-2, ..., eleve-10). Il y a aussi du code pour aider à débogger."
      ],
      "metadata": {
        "id": "u5qGfWna15a3"
      }
    },
    {
      "cell_type": "code",
      "source": [
        "# Cellule 06: Traitement par Lots des Images\n",
        "\n",
        "# Fonction pour trier naturellement les noms de fichiers (eleve-1, eleve-2, ..., eleve-10)\n",
        "def natural_sort_key(s):\n",
        "    return [int(text) if text.isdigit() else text.lower() for text in re.split(r'(\\d+)', s)]\n",
        "\n",
        "# Lister tous les fichiers images correspondants au modèle\n",
        "image_files_pattern = os.path.join(input_folder, 'eleve-*.png')\n",
        "list_of_image_paths = glob.glob(image_files_pattern)\n",
        "list_of_image_paths.sort(key=natural_sort_key) # Trier les fichiers\n",
        "\n",
        "if not list_of_image_paths:\n",
        "    print(f\"Aucun fichier image trouvé dans {input_folder} avec le modèle eleve-*.png\")\n",
        "else:\n",
        "    print(f\"{len(list_of_image_paths)} fichiers images à traiter.\")\n",
        "\n",
        "# Vérifier si le fichier CSV existe pour l'en-tête (une seule fois avant la boucle)\n",
        "csv_file_already_exists = os.path.isfile(output_csv)\n",
        "\n",
        "try:\n",
        "    with open(output_csv, 'a' if csv_file_already_exists else 'w', newline='') as csvfile:\n",
        "        writer = csv.DictWriter(csvfile, fieldnames=CSV_FIELDNAMES)\n",
        "        if not csv_file_already_exists:\n",
        "            writer.writeheader()\n",
        "\n",
        "        # Boucle principale pour traiter chaque fichier image\n",
        "        for image_path in list_of_image_paths:\n",
        "            current_image_filename = os.path.basename(image_path)\n",
        "            print(f\"\\n--- Traitement du fichier : {current_image_filename} ---\")\n",
        "\n",
        "            image_orig = cv2.imread(image_path)\n",
        "            if image_orig is None:\n",
        "                print(f\"ERREUR : Impossible de lire l'image {current_image_filename}. Fichier ignoré.\")\n",
        "                # Écrire une ligne d'erreur dans le CSV pour ce fichier\n",
        "                error_row = {'ImageName': current_image_filename, 'DetectedID': 'ERREUR LECTURE IMAGE'}\n",
        "                for i in range(QCM_NUM_QUESTIONS): error_row[f'Q{i+1}'] = \"N/A\"\n",
        "                writer.writerow(error_row)\n",
        "                continue\n",
        "\n",
        "            image_for_processing = image_orig.copy()\n",
        "\n",
        "            # 1. Prétraitement et Détection Globale de Cercles\n",
        "            gray = cv2.cvtColor(image_for_processing, cv2.COLOR_BGR2GRAY)\n",
        "            blur = cv2.medianBlur(gray, 5)\n",
        "            circles = cv2.HoughCircles(blur, cv2.HOUGH_GRADIENT, dp=HOUGH_DP, minDist=HOUGH_MIN_DIST,\n",
        "                                       param1=HOUGH_PARAM1, param2=HOUGH_PARAM2,\n",
        "                                       minRadius=HOUGH_MIN_RADIUS, maxRadius=HOUGH_MAX_RADIUS)\n",
        "\n",
        "            overall_detected_circles = []\n",
        "            if circles is not None:\n",
        "                circles_processed = np.uint16(np.around(circles))\n",
        "                overall_detected_circles = sorted(circles_processed[0, :], key=lambda c: (c[1], c[0]))\n",
        "                # print(f\"{len(overall_detected_circles)} cercles bruts détectés pour {current_image_filename}.\") # Optionnel\n",
        "            else:\n",
        "                print(f\"Aucun cercle brut détecté pour {current_image_filename}.\")\n",
        "\n",
        "            # Initialisations pour les résultats de l'image actuelle\n",
        "            final_id_string = \"NO_ID_PROC\"\n",
        "            id_string_parts = [None] * 7\n",
        "            qcm_answers_by_question_idx = {}\n",
        "\n",
        "            # 2. Logique de Détection de l'ID\n",
        "            if not overall_detected_circles:\n",
        "                print(f\"ID : Aucun cercle global pour {current_image_filename}.\")\n",
        "                final_id_string = \"NO_CIRCLES_FOR_ID\"\n",
        "            else:\n",
        "                for id_row_idx in range(7):\n",
        "                    # ... (copier ici la logique de traitement d'une ligne d'ID de la Cellule 07 précédente)\n",
        "                    # S'assurer d'utiliser 'overall_detected_circles' et 'ID_VERTICAL_ROW_TOLERANCE' etc.\n",
        "                    # Le code ci-dessous est une version abrégée de cette logique\n",
        "                    predefined_chars_for_id_row = id_character_positions_map[id_row_idx]\n",
        "                    current_id_row_y_ref = int(predefined_chars_for_id_row[0]['y'])\n",
        "                    id_circles_near_this_row = [c for c in overall_detected_circles if abs(int(c[1]) - current_id_row_y_ref) < float(ID_VERTICAL_ROW_TOLERANCE)]\n",
        "\n",
        "                    if not id_circles_near_this_row: continue\n",
        "                    darkest_id_circle_on_row = None; min_id_intensity = float('inf')\n",
        "                    if len(id_circles_near_this_row) == 1: darkest_id_circle_on_row = id_circles_near_this_row[0]\n",
        "                    else:\n",
        "                        for id_c_coords in id_circles_near_this_row:\n",
        "                            avg_id_intensity = get_average_intensity(gray, int(id_c_coords[0]), int(id_c_coords[1]), int(id_c_coords[2]))\n",
        "                            if avg_id_intensity < min_id_intensity: min_id_intensity = avg_id_intensity; darkest_id_circle_on_row = id_c_coords\n",
        "\n",
        "                    if darkest_id_circle_on_row is None: continue\n",
        "\n",
        "                    marked_id_cx, marked_id_cy = int(darkest_id_circle_on_row[0]), int(darkest_id_circle_on_row[1])\n",
        "                    assoc_char_id = None; min_dist_id = float('inf')\n",
        "                    for id_char_pos in predefined_chars_for_id_row:\n",
        "                        dist_id = np.sqrt(float(marked_id_cx - int(id_char_pos['x']))**2 + float(marked_id_cy - int(id_char_pos['y']))**2)\n",
        "                        if dist_id < min_dist_id: min_dist_id = dist_id; assoc_char_id = id_char_pos['char']\n",
        "                    if assoc_char_id is not None and min_dist_id <= ID_MATCHING_THRESHOLD: id_string_parts[id_row_idx] = assoc_char_id\n",
        "\n",
        "                # Assemblage de l'ID final pour l'image actuelle\n",
        "                is_id_complete = True; temp_id_str = \"\"\n",
        "                for i in range(6): temp_id_str += id_string_parts[i] if id_string_parts[i] else \"?\"; is_id_complete &= (id_string_parts[i] is not None)\n",
        "                temp_id_str += id_string_parts[6] if id_string_parts[6] else \"?\"; is_id_complete &= (id_string_parts[6] is not None)\n",
        "                final_id_string = temp_id_str\n",
        "                # print(f\"ID pour {current_image_filename}: {final_id_string}\") # Optionnel\n",
        "\n",
        "            # 3. Logique de Détection QCM\n",
        "            if not overall_detected_circles:\n",
        "                print(f\"QCM : Aucun cercle global pour {current_image_filename}.\")\n",
        "            else:\n",
        "                # print(f\"\\nTraitement QCM pour {current_image_filename}...\") # Optionnel\n",
        "                for q_idx in range(QCM_NUM_QUESTIONS):\n",
        "                    # ... (copier ici la logique de traitement d'une question QCM de la Cellule 09 précédente)\n",
        "                    # S'assurer d'utiliser 'overall_detected_circles' et les bons paramètres QCM.\n",
        "                    # Le code ci-dessous est une version abrégée de cette logique\n",
        "                    current_q_y_ref = int(QCM_Y_START + q_idx * QCM_ANSWER_ROW_HEIGHT)\n",
        "                    qcm_vertical_tolerance = float(QCM_ANSWER_ROW_HEIGHT / 3.0)\n",
        "                    circles_for_this_q_row = [c for c in overall_detected_circles if abs(int(c[1]) - current_q_y_ref) < qcm_vertical_tolerance]\n",
        "\n",
        "                    if not circles_for_this_q_row: qcm_answers_by_question_idx[q_idx] = \"?\"; continue\n",
        "                    darkest_qcm_circle_on_row = None; min_qcm_intensity = float('inf')\n",
        "                    if len(circles_for_this_q_row) == 1: darkest_qcm_circle_on_row = circles_for_this_q_row[0]\n",
        "                    else:\n",
        "                        for q_c_coords in circles_for_this_q_row:\n",
        "                            avg_qcm_intensity = get_average_intensity(gray, int(q_c_coords[0]), int(q_c_coords[1]), int(q_c_coords[2]))\n",
        "                            if avg_qcm_intensity < min_qcm_intensity: min_qcm_intensity = avg_qcm_intensity; darkest_qcm_circle_on_row = q_c_coords\n",
        "\n",
        "                    if darkest_qcm_circle_on_row is None: qcm_answers_by_question_idx[q_idx] = \"?\"; continue\n",
        "\n",
        "                    marked_qcm_cx, marked_qcm_cy = int(darkest_qcm_circle_on_row[0]), int(darkest_qcm_circle_on_row[1])\n",
        "                    assoc_choice_char = None; min_dist_qcm = float('inf')\n",
        "                    predefined_choices_for_this_q = qcm_answer_areas[q_idx]\n",
        "                    for q_choice_pos in predefined_choices_for_this_q:\n",
        "                        dist_qcm = np.sqrt(float(marked_qcm_cx - int(q_choice_pos['x']))**2 + float(marked_qcm_cy - int(q_choice_pos['y']))**2)\n",
        "                        if dist_qcm < min_dist_qcm: min_dist_qcm = dist_qcm; assoc_choice_char = q_choice_pos['char']\n",
        "                    if assoc_choice_char is not None and min_dist_qcm <= QCM_MATCHING_THRESHOLD: qcm_answers_by_question_idx[q_idx] = assoc_choice_char\n",
        "                    else: qcm_answers_by_question_idx[q_idx] = \"?\"\n",
        "\n",
        "                # Affichage des réponses QCM pour l'image actuelle (optionnel)\n",
        "                # print(f\"Réponses QCM pour {current_image_filename}:\")\n",
        "                # for i in range(QCM_NUM_QUESTIONS): print(f\"  Question {i + 1}: {qcm_answers_by_question_idx.get(i, '?')}\")\n",
        "\n",
        "\n",
        "            # 4. Préparer la ligne de données et écrire dans le CSV\n",
        "            csv_data_row = {'ImageName': current_image_filename, 'DetectedID': final_id_string}\n",
        "            for i in range(QCM_NUM_QUESTIONS):\n",
        "                csv_data_row[f'Q{i+1}'] = qcm_answers_by_question_idx.get(i, \"?\")\n",
        "\n",
        "            writer.writerow(csv_data_row)\n",
        "            print(f\"Résultats pour {current_image_filename} sauvegardés.\")\n",
        "\n",
        "    print(f\"\\nTraitement par lots terminé. Résultats dans {output_csv}\")\n",
        "\n",
        "except IOError:\n",
        "    print(f\"ERREUR E/S lors de l'écriture dans le fichier CSV : {output_csv}\")\n",
        "except Exception as e:\n",
        "    print(f\"Une erreur générale est survenue : {e}\")\n",
        "    import traceback\n",
        "    traceback.print_exc()"
      ],
      "metadata": {
        "colab": {
          "base_uri": "https://localhost:8080/"
        },
        "id": "5vYwkJtBov-D",
        "outputId": "17f36573-284f-4670-df6e-c3671e771ed4"
      },
      "execution_count": null,
      "outputs": [
        {
          "output_type": "stream",
          "name": "stdout",
          "text": [
            "7 fichiers images à traiter.\n",
            "\n",
            "--- Traitement du fichier : ID-1.png ---\n",
            "Résultats pour ID-1.png sauvegardés.\n",
            "\n",
            "--- Traitement du fichier : ID-2.png ---\n",
            "Résultats pour ID-2.png sauvegardés.\n",
            "\n",
            "--- Traitement du fichier : ID-3.png ---\n",
            "Résultats pour ID-3.png sauvegardés.\n",
            "\n",
            "--- Traitement du fichier : ID-4.png ---\n",
            "Résultats pour ID-4.png sauvegardés.\n",
            "\n",
            "--- Traitement du fichier : ID-5.png ---\n",
            "Résultats pour ID-5.png sauvegardés.\n",
            "\n",
            "--- Traitement du fichier : ID-6.png ---\n",
            "Résultats pour ID-6.png sauvegardés.\n",
            "\n",
            "--- Traitement du fichier : ID-7.png ---\n",
            "Résultats pour ID-7.png sauvegardés.\n",
            "\n",
            "Traitement par lots terminé. Résultats dans /content/drive/MyDrive/Colab Notebooks/Correcteur-QCM/resultats_complets_batch.csv\n"
          ]
        }
      ]
    },
    {
      "cell_type": "markdown",
      "source": [
        "Définition des zones de réponse et tri des cercles"
      ],
      "metadata": {
        "id": "CvnjkZMDo7e3"
      }
    },
    {
      "cell_type": "markdown",
      "source": [
        "<img src=\"https://www.cssmb.gouv.qc.ca/wp-content/uploads/2021/10/LogoCSS-MentionAvenir_Couleur.png\" width=30% align=\"left\">"
      ],
      "metadata": {
        "id": "tMcHm4EG-AfE"
      }
    }
  ]
}